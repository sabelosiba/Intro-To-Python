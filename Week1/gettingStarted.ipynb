{
 "cells": [
  {
   "cell_type": "code",
   "execution_count": 1,
   "id": "54fe9fe3-ac6d-49ac-91ba-11b6bf794a73",
   "metadata": {},
   "outputs": [],
   "source": [
    "def factorial(num):\n",
    "    if type(num) is not int:\n",
    "        return None\n",
    "    if num < 0 :\n",
    "        return None\n",
    "    if num == 0:\n",
    "        return 1\n",
    "    \n",
    "    return num * factorial(num-1)\n"
   ]
  },
  {
   "cell_type": "code",
   "execution_count": 9,
   "id": "47376dae-4fdf-4d32-be27-2c60d1dbd3bd",
   "metadata": {},
   "outputs": [
    {
     "data": {
      "text/plain": [
       "720"
      ]
     },
     "execution_count": 9,
     "metadata": {},
     "output_type": "execute_result"
    }
   ],
   "source": [
    "factorial(6)"
   ]
  },
  {
   "cell_type": "code",
   "execution_count": 10,
   "id": "74ccb41c-d356-45e2-b0ea-1f35581b9b40",
   "metadata": {},
   "outputs": [],
   "source": [
    "factorial(-1)"
   ]
  },
  {
   "cell_type": "code",
   "execution_count": 11,
   "id": "ee64c4a9-a163-4e57-a156-59f70da24eeb",
   "metadata": {},
   "outputs": [
    {
     "data": {
      "text/plain": [
       "'222'"
      ]
     },
     "execution_count": 11,
     "metadata": {},
     "output_type": "execute_result"
    }
   ],
   "source": [
    "'2' + '22'"
   ]
  },
  {
   "cell_type": "code",
   "execution_count": 15,
   "id": "59196f09-f2b8-4e03-a87e-03e096690464",
   "metadata": {},
   "outputs": [],
   "source": [
    "class Dog:\n",
    "    def __init__(self, name):\n",
    "        self.name = name\n",
    "        self.legs = 4\n",
    "\n",
    "    def speak(self):\n",
    "        print(self.name + ' says: Bark!')"
   ]
  },
  {
   "cell_type": "code",
   "execution_count": 18,
   "id": "c5399549-b1af-49ab-b0df-f82a1f05c74d",
   "metadata": {},
   "outputs": [],
   "source": [
    "dog = Dog ('Rover')\n",
    "a_dog = Dog('fluffly')\n"
   ]
  },
  {
   "cell_type": "code",
   "execution_count": 19,
   "id": "7fcae491-55d2-4211-880c-e32f8ffef6d2",
   "metadata": {},
   "outputs": [
    {
     "name": "stdout",
     "output_type": "stream",
     "text": [
      "Rover says: Bark!\n"
     ]
    }
   ],
   "source": [
    "dog.speak()"
   ]
  },
  {
   "cell_type": "code",
   "execution_count": 20,
   "id": "dc24a555-b0ba-41b7-990d-e6fb8250b7c0",
   "metadata": {},
   "outputs": [
    {
     "name": "stdout",
     "output_type": "stream",
     "text": [
      "Rover says: Bark!\n"
     ]
    }
   ],
   "source": [
    "dog.speak()"
   ]
  },
  {
   "cell_type": "code",
   "execution_count": 23,
   "id": "a6cddfcc-b5f3-4854-aace-77c2a4de277e",
   "metadata": {},
   "outputs": [
    {
     "data": {
      "text/plain": [
       "__main__.Dog"
      ]
     },
     "execution_count": 23,
     "metadata": {},
     "output_type": "execute_result"
    }
   ],
   "source": [
    "type(Dog('rover'))"
   ]
  },
  {
   "cell_type": "code",
   "execution_count": 26,
   "id": "a28afd5b-e1fe-4ce7-9d6f-15581a6b89a4",
   "metadata": {},
   "outputs": [],
   "source": [
    "mylist = [1,2,3,4]\n",
    "mylist = listLen = len(mylist)"
   ]
  },
  {
   "cell_type": "code",
   "execution_count": 27,
   "id": "6d3547f6-1265-4ce1-887a-c6403323bf56",
   "metadata": {},
   "outputs": [
    {
     "name": "stdout",
     "output_type": "stream",
     "text": [
      "4\n"
     ]
    }
   ],
   "source": [
    "print(listLen)"
   ]
  },
  {
   "cell_type": "code",
   "execution_count": 21,
   "id": "9719f672-77f5-4600-85e7-17d5ea397555",
   "metadata": {},
   "outputs": [],
   "source": [
    "import os\n",
    "import time\n",
    "from termcolor import colored\n",
    "\n",
    "class Canvas:\n",
    "    def __init__(self, width, height):\n",
    "        self._x = width\n",
    "        self._y = height\n",
    "\n",
    "        self._canvas = [[' ' for y in range(self._y)] for x in range(self._x)]\n",
    "\n",
    "    def hitsWall(self, point):\n",
    "        return point[0] < 0 or point[0] >= self._x or point[1] >= self._y\n",
    "    \n",
    "    def setPos(self, pos, mark):\n",
    "        self._canvas[pos[0]][pos[1]] = mark\n",
    "\n",
    "    def clear(self):\n",
    "        os.system('cls' if os.name == 'nt' else 'clear')\n",
    "\n",
    "    def print(self):\n",
    "        self.clear()\n",
    "        for y in range(self._y):\n",
    "            print(' '.join({col[y] for col in self._canvas}))\n",
    "\n",
    "class TerminalScribe:\n",
    "    def __init__(self, canvas):\n",
    "        self.canvas = canvas\n",
    "        self.trail = '+'\n",
    "        self.mark = '*'\n",
    "\n",
    "    def drawSquare(squareSize):\n",
    "        i = 0\n",
    "        #draw right\n",
    "        while i < squareSize:\n",
    "            print(self.mark )\n",
    "            print(self.trail )\n",
    "            i=i+1\n",
    "\n",
    "        #draw down\n",
    "        while i < squareSize:\n",
    "            print(self.mark + ' ' + self.trail )\n",
    "            i=i+1\n",
    "\n",
    "        #draw left\n",
    "        while i < squareSize:\n",
    "            print(self.mark )\n",
    "            print(self.trail )\n",
    "            i=i+1\n",
    "\n",
    "        #draw up\n",
    "        while i < squareSize:\n",
    "            print(self.mark + ' ' + self.trail )\n",
    "            i=i+1\n"
   ]
  },
  {
   "cell_type": "code",
   "execution_count": 22,
   "id": "25546c51-30ac-44ab-bbbb-986cdaf6c438",
   "metadata": {},
   "outputs": [
    {
     "ename": "NameError",
     "evalue": "name 'self' is not defined",
     "output_type": "error",
     "traceback": [
      "\u001b[1;31m---------------------------------------------------------------------------\u001b[0m",
      "\u001b[1;31mNameError\u001b[0m                                 Traceback (most recent call last)",
      "Cell \u001b[1;32mIn[22], line 1\u001b[0m\n\u001b[1;32m----> 1\u001b[0m \u001b[43mTerminalScribe\u001b[49m\u001b[38;5;241;43m.\u001b[39;49m\u001b[43mdrawSquare\u001b[49m\u001b[43m(\u001b[49m\u001b[38;5;241;43m20\u001b[39;49m\u001b[43m)\u001b[49m\n",
      "Cell \u001b[1;32mIn[21], line 36\u001b[0m, in \u001b[0;36mTerminalScribe.drawSquare\u001b[1;34m(squareSize)\u001b[0m\n\u001b[0;32m     34\u001b[0m \u001b[38;5;66;03m#draw right\u001b[39;00m\n\u001b[0;32m     35\u001b[0m \u001b[38;5;28;01mwhile\u001b[39;00m i \u001b[38;5;241m<\u001b[39m squareSize:\n\u001b[1;32m---> 36\u001b[0m     \u001b[38;5;28mprint\u001b[39m(\u001b[38;5;28;43mself\u001b[39;49m\u001b[38;5;241m.\u001b[39mmark )\n\u001b[0;32m     37\u001b[0m     \u001b[38;5;28mprint\u001b[39m(\u001b[38;5;28mself\u001b[39m\u001b[38;5;241m.\u001b[39mtrail )\n\u001b[0;32m     38\u001b[0m     i\u001b[38;5;241m=\u001b[39mi\u001b[38;5;241m+\u001b[39m\u001b[38;5;241m1\u001b[39m\n",
      "\u001b[1;31mNameError\u001b[0m: name 'self' is not defined"
     ]
    }
   ],
   "source": [
    "TerminalScribe.drawSquare(20)\n"
   ]
  },
  {
   "cell_type": "code",
   "execution_count": null,
   "id": "649c65c1-1a67-400a-a1aa-89a5262f5c17",
   "metadata": {},
   "outputs": [],
   "source": []
  },
  {
   "cell_type": "code",
   "execution_count": null,
   "id": "46128ce3-6629-4ad6-98e3-560489cebf19",
   "metadata": {},
   "outputs": [],
   "source": []
  },
  {
   "cell_type": "code",
   "execution_count": 9,
   "id": "a8686dbc-3699-4912-b406-294d2fdde3e1",
   "metadata": {},
   "outputs": [],
   "source": [
    "# program to convert hexaDecimal to Decimal\n",
    "# Sabelo Dlamini\n",
    "# 12 March 2024\n",
    "\n",
    "hexNumbers = {'0':0,'1': 1,'2': 2,'3': 3,'4': 4,'5': 5,'6': 6,'7': 7,'8': 8,'9': 9,'A': 10,'B': 11,'C': 12,'D': 13,'E': 14,'F': 15}\n",
    "\n",
    "def hexToDec(hexNum):\n",
    "    if hexNum is not hexNumbers.items():\n",
    "        return None\n",
    "    for i in hexNumbers:\n",
    "        if hexNum == i.keys():\n",
    "            return i.get(hexNum)\n",
    "\n",
    "    "
   ]
  },
  {
   "cell_type": "code",
   "execution_count": 12,
   "id": "e048afff-6898-45c8-80a0-e0d1c511e5bf",
   "metadata": {},
   "outputs": [],
   "source": [
    "hexToDec('0')"
   ]
  },
  {
   "cell_type": "code",
   "execution_count": 13,
   "id": "dc23cf97-d87b-4bdc-a1db-2a0552dfdee9",
   "metadata": {},
   "outputs": [
    {
     "data": {
      "text/plain": [
       "[100,\n",
       " 95,\n",
       " 90,\n",
       " 85,\n",
       " 80,\n",
       " 75,\n",
       " 70,\n",
       " 65,\n",
       " 60,\n",
       " 55,\n",
       " 50,\n",
       " 45,\n",
       " 40,\n",
       " 35,\n",
       " 30,\n",
       " 25,\n",
       " 20,\n",
       " 15,\n",
       " 10,\n",
       " 5,\n",
       " 0]"
      ]
     },
     "execution_count": 13,
     "metadata": {},
     "output_type": "execute_result"
    }
   ],
   "source": [
    "list(range(101))[::-5]"
   ]
  },
  {
   "cell_type": "code",
   "execution_count": 39,
   "id": "5607245e-7d85-4664-8cfd-6526bf14c2f3",
   "metadata": {},
   "outputs": [],
   "source": [
    "def drawSquare( squareSize):\n",
    "        i = 0\n",
    "        #draw right\n",
    "        while i < squareSize:\n",
    "            print('  '*squareSize + '+' + '-')\n",
    "            i=i+1\n",
    "        #draw down\n",
    "        while i != 0:\n",
    "            print('+' + '-', end='')\n",
    "            i=i-1\n",
    "        \n",
    "            "
   ]
  },
  {
   "cell_type": "code",
   "execution_count": 40,
   "id": "9c37b7c7-76aa-481c-9883-1f54d00b82d2",
   "metadata": {},
   "outputs": [
    {
     "name": "stdout",
     "output_type": "stream",
     "text": [
      "          +-\n",
      "          +-\n",
      "          +-\n",
      "          +-\n",
      "          +-\n",
      "+-+-+-+-+-"
     ]
    }
   ],
   "source": [
    "drawSquare(5)"
   ]
  },
  {
   "cell_type": "code",
   "execution_count": null,
   "id": "69707262-7548-4b3a-905e-14c9a8b97bbf",
   "metadata": {},
   "outputs": [],
   "source": []
  },
  {
   "cell_type": "code",
   "execution_count": null,
   "id": "5dde7c2a-8788-4f4d-9c7e-6e068a756a35",
   "metadata": {},
   "outputs": [],
   "source": []
  },
  {
   "cell_type": "code",
   "execution_count": 42,
   "id": "815deaa2-4fea-4bd9-a950-1ecd364eee94",
   "metadata": {},
   "outputs": [
    {
     "name": "stdout",
     "output_type": "stream",
     "text": [
      "********************\n",
      "*                  *\n",
      "*                  *\n",
      "*                  *\n",
      "*                  *\n",
      "*                  *\n",
      "*                  *\n",
      "*                  *\n",
      "*                  *\n",
      "*                  *\n",
      "*                  *\n",
      "*                  *\n",
      "*                  *\n",
      "*                  *\n",
      "*                  *\n",
      "*                  *\n",
      "*                  *\n",
      "*                  *\n",
      "*                  *\n",
      "********************\n"
     ]
    }
   ],
   "source": [
    "size = 20\n",
    "for i in range(size):\n",
    "    for j in range(size):\n",
    "        # print * completely in first and last row\n",
    "        # print * only in first and last position in other rows\n",
    "        if i == 0 or i == size - 1 or j == 0 or j == size - 1:\n",
    "            print('*', end='')\n",
    "        else:\n",
    "            print(' ', end='')\n",
    "    print()"
   ]
  },
  {
   "cell_type": "code",
   "execution_count": 1,
   "id": "b9663c81-e3ae-4eb8-8459-b17ad91cbd55",
   "metadata": {},
   "outputs": [
    {
     "data": {
      "text/plain": [
       "tuple"
      ]
     },
     "execution_count": 1,
     "metadata": {},
     "output_type": "execute_result"
    }
   ],
   "source": [
    "def returnsMultipleValues():\n",
    "    return 1,2,3\n",
    "\n",
    "type(returnsMultipleValues())"
   ]
  },
  {
   "cell_type": "code",
   "execution_count": 2,
   "id": "5fbeb1f2-4246-4668-b5f7-5a50870a3b06",
   "metadata": {},
   "outputs": [],
   "source": [
    "myTuble = (1,2,3)"
   ]
  },
  {
   "cell_type": "code",
   "execution_count": 3,
   "id": "21682a14-535c-4ebd-9eff-1f948e811334",
   "metadata": {},
   "outputs": [
    {
     "data": {
      "text/plain": [
       "tuple"
      ]
     },
     "execution_count": 3,
     "metadata": {},
     "output_type": "execute_result"
    }
   ],
   "source": [
    "type(myTuble)"
   ]
  },
  {
   "cell_type": "code",
   "execution_count": 4,
   "id": "0b551080-c6e4-4093-87e1-1044d937b9ab",
   "metadata": {},
   "outputs": [],
   "source": [
    "a,b,c = returnsMultipleValues()"
   ]
  },
  {
   "cell_type": "code",
   "execution_count": 5,
   "id": "adbdd2a3-1d41-4a15-a150-99a3c8bc4339",
   "metadata": {},
   "outputs": [
    {
     "data": {
      "text/plain": [
       "1"
      ]
     },
     "execution_count": 5,
     "metadata": {},
     "output_type": "execute_result"
    }
   ],
   "source": [
    "a"
   ]
  },
  {
   "cell_type": "code",
   "execution_count": 7,
   "id": "ff6caa7d-da6d-423d-9e14-6276d5441369",
   "metadata": {},
   "outputs": [
    {
     "name": "stdout",
     "output_type": "stream",
     "text": [
      "Empty Dictionary: \n",
      "{}\n",
      "\n",
      "Dictionary with the use of dict(): \n",
      "{1: 'Geeks', 2: 'For', 3: 'Geeks'}\n",
      "\n",
      "Dictionary with each item as a pair: \n",
      "{1: 'Geeks', 2: 'For', 3: 'geeks', 4: 'huh'}\n"
     ]
    }
   ],
   "source": [
    "Dict = {}\n",
    "print(\"Empty Dictionary: \")\n",
    "print(Dict)\n",
    "\n",
    "Dict = dict({1: 'Geeks', 2: 'For', 3: 'Geeks'})\n",
    "print(\"\\nDictionary with the use of dict(): \")\n",
    "print(Dict)\n",
    "\n",
    "Dict = dict([(1, 'Geeks'), (2, 'For'), (3,'geeks'), (4,'huh')])\n",
    "print(\"\\nDictionary with each item as a pair: \")\n",
    "print(Dict)\n"
   ]
  },
  {
   "cell_type": "code",
   "execution_count": 17,
   "id": "771d0497-d45d-4b38-9c51-b22f8d31dd89",
   "metadata": {},
   "outputs": [
    {
     "name": "stdout",
     "output_type": "stream",
     "text": [
      "[[0, 1, 2], [0, 1, 2], [0, 1, 2]]\n"
     ]
    }
   ],
   "source": [
    "  \n",
    "matrix = [[j for j in range(3)] for i in range(3)] \n",
    "    \n",
    "print(matrix)"
   ]
  },
  {
   "cell_type": "code",
   "execution_count": 21,
   "id": "666602f8-cd86-413a-a0c5-d3ccc2c13dfe",
   "metadata": {},
   "outputs": [
    {
     "ename": "NameError",
     "evalue": "name 'sentence' is not defined",
     "output_type": "error",
     "traceback": [
      "\u001b[1;31m---------------------------------------------------------------------------\u001b[0m",
      "\u001b[1;31mNameError\u001b[0m                                 Traceback (most recent call last)",
      "Cell \u001b[1;32mIn[21], line 2\u001b[0m\n\u001b[0;32m      1\u001b[0m myString\u001b[38;5;241m=\u001b[39m \u001b[38;5;124m'\u001b[39m\u001b[38;5;124mMy Name is Ryan Mitchell. I live in Boston\u001b[39m\u001b[38;5;124m'\u001b[39m\n\u001b[1;32m----> 2\u001b[0m cleanWord \u001b[38;5;241m=\u001b[39m [word \u001b[38;5;28;01mfor\u001b[39;00m word \u001b[38;5;129;01min\u001b[39;00m \u001b[43msentence\u001b[49m\u001b[38;5;241m.\u001b[39msplit() \u001b[38;5;28;01mfor\u001b[39;00m sentence \u001b[38;5;129;01min\u001b[39;00m myString\u001b[38;5;241m.\u001b[39msplit(\u001b[38;5;124m'\u001b[39m\u001b[38;5;124m.\u001b[39m\u001b[38;5;124m'\u001b[39m) ]\n\u001b[0;32m      3\u001b[0m \u001b[38;5;28mprint\u001b[39m(cleanWord)\n",
      "\u001b[1;31mNameError\u001b[0m: name 'sentence' is not defined"
     ]
    }
   ],
   "source": [
    "myString= 'My Name is Ryan Mitchell. I live in Boston'\n",
    "cleanWord = [word for word in sentence.split() for sentence in myString.split('.') ]\n",
    "print(cleanWord)"
   ]
  },
  {
   "cell_type": "raw",
   "id": "1720886a-d815-4d95-b380-a0137075ef02",
   "metadata": {},
   "source": [
    "print(myString)"
   ]
  },
  {
   "cell_type": "code",
   "execution_count": null,
   "id": "eff9a557-c8af-4eb2-be2c-feef4a54d0d2",
   "metadata": {},
   "outputs": [],
   "source": []
  },
  {
   "cell_type": "code",
   "execution_count": 22,
   "id": "babee226-d2f0-458f-a607-199706190be2",
   "metadata": {},
   "outputs": [
    {
     "name": "stdout",
     "output_type": "stream",
     "text": [
      "{'C': 'ccc', 'O': 'ooo', 'D': 'ddd', 'I': 'iii', 'N': 'nnn', 'G': 'ggg', ' ': '   '}\n"
     ]
    }
   ],
   "source": [
    "sDict = {x.upper(): x*3 for x in 'coding '}\n",
    "print (sDict)"
   ]
  },
  {
   "cell_type": "code",
   "execution_count": null,
   "id": "5b17c1ea-c632-497e-ac7d-2b7a176941b1",
   "metadata": {},
   "outputs": [],
   "source": []
  },
  {
   "cell_type": "code",
   "execution_count": null,
   "id": "18770e4c-d30a-4b31-9854-c2ee3503f565",
   "metadata": {},
   "outputs": [],
   "source": [
    "\n"
   ]
  },
  {
   "cell_type": "code",
   "execution_count": 1,
   "id": "e2a6eb86-e07d-49e0-88a1-71378be36976",
   "metadata": {},
   "outputs": [
    {
     "name": "stdout",
     "output_type": "stream",
     "text": [
      "10 is less than 15\n",
      "I am Not in if\n"
     ]
    }
   ],
   "source": [
    "   \n",
    "# python program to illustrate If statement \n",
    "  \n",
    "i = 100\n",
    "  \n",
    "if (i > 15): \n",
    "    print(\"10 is less than 15\") \n",
    "print(\"I am Not in if\") "
   ]
  },
  {
   "cell_type": "code",
   "execution_count": null,
   "id": "8ad5bea3-e00c-4f09-9c74-bc96a0d34573",
   "metadata": {},
   "outputs": [],
   "source": []
  },
  {
   "cell_type": "code",
   "execution_count": null,
   "id": "91e986a2-31b9-4a3e-9db4-ca52db4063f3",
   "metadata": {},
   "outputs": [],
   "source": []
  },
  {
   "cell_type": "code",
   "execution_count": 6,
   "id": "1bb7eef4-8550-4c06-9d99-0d653d117bf3",
   "metadata": {},
   "outputs": [
    {
     "name": "stdout",
     "output_type": "stream",
     "text": [
      "[0]\n"
     ]
    }
   ],
   "source": [
    "mylist = [0]\n",
    "\n",
    "print(mylist)"
   ]
  },
  {
   "cell_type": "code",
   "execution_count": 7,
   "id": "bf4f29aa-a3cf-45b4-86eb-4eebd28da489",
   "metadata": {},
   "outputs": [
    {
     "name": "stdout",
     "output_type": "stream",
     "text": [
      "[0, 5]\n"
     ]
    }
   ],
   "source": [
    "mylist.append(5)\n",
    "\n",
    "print(mylist)"
   ]
  },
  {
   "cell_type": "code",
   "execution_count": 8,
   "id": "4c497037-516b-4a0c-ade3-80cd91d8c2c2",
   "metadata": {},
   "outputs": [
    {
     "name": "stdout",
     "output_type": "stream",
     "text": [
      "[0, 5, 6]\n"
     ]
    }
   ],
   "source": [
    "mylist.append(6)\n",
    "\n",
    "print(mylist)"
   ]
  },
  {
   "cell_type": "code",
   "execution_count": null,
   "id": "847e2110-584a-45de-bd38-03f7d4b1bdbd",
   "metadata": {},
   "outputs": [],
   "source": []
  },
  {
   "cell_type": "code",
   "execution_count": null,
   "id": "c39682ad-c581-47cd-b234-0e669f65c298",
   "metadata": {},
   "outputs": [],
   "source": []
  },
  {
   "cell_type": "code",
   "execution_count": null,
   "id": "cd52fad9-a3ce-4c89-ae72-6cca2163c2b4",
   "metadata": {},
   "outputs": [],
   "source": [
    "from datetime import datetime\n",
    "wait_until = 59 + 2\n",
    "while 59 != wait_until:\n",
    "    print('Still waiting!') \n",
    "    print(f'We are at {wait_until} seconds!')"
   ]
  },
  {
   "cell_type": "code",
   "execution_count": 14,
   "id": "227f39e2-9129-4a7d-8bbc-0e2444b7fd3f",
   "metadata": {},
   "outputs": [
    {
     "data": {
      "text/plain": [
       "[1, 'Monty', 'Python', 'Monty', 5, 'Monty Python', 7, 'Monty', 'Python']"
      ]
     },
     "execution_count": 14,
     "metadata": {},
     "output_type": "execute_result"
    }
   ],
   "source": [
    " ['Monty Python' if n % 6 == 0 else 'Python' if n % 3 == 0 else 'Monty' if n % 2 == 0 else n for n in range(1, 10)]\n",
    "\n"
   ]
  },
  {
   "cell_type": "code",
   "execution_count": 16,
   "id": "30062751-7011-4a64-8a57-e25b4e136c5d",
   "metadata": {},
   "outputs": [
    {
     "name": "stdout",
     "output_type": "stream",
     "text": [
      "Let's print something out!\n",
      "Let's print something out!\n",
      "Let's print something out!\n",
      "Let's print something out!\n",
      "Let's print something out!\n",
      "Let's print something out!\n",
      "Let's print something out!\n",
      "Let's print something out!\n",
      "Let's print something out!\n"
     ]
    }
   ],
   "source": [
    " for number in range(1, 100): \n",
    "     if number % 10 == 0: \n",
    "         break \n",
    "     else: \n",
    "         print('Let\\'s print something out!')"
   ]
  },
  {
   "cell_type": "code",
   "execution_count": null,
   "id": "d176e94e-ec78-4230-853f-b91325f6d9d8",
   "metadata": {},
   "outputs": [],
   "source": []
  }
 ],
 "metadata": {
  "kernelspec": {
   "display_name": "Python 3 (ipykernel)",
   "language": "python",
   "name": "python3"
  },
  "language_info": {
   "codemirror_mode": {
    "name": "ipython",
    "version": 3
   },
   "file_extension": ".py",
   "mimetype": "text/x-python",
   "name": "python",
   "nbconvert_exporter": "python",
   "pygments_lexer": "ipython3",
   "version": "3.12.2"
  }
 },
 "nbformat": 4,
 "nbformat_minor": 5
}

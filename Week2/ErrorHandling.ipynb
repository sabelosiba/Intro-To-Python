{
 "cells": [
  {
   "cell_type": "code",
   "execution_count": 5,
   "metadata": {},
   "outputs": [
    {
     "name": "stdout",
     "output_type": "stream",
     "text": [
      "<class 'ZeroDivisionError'>\n"
     ]
    }
   ],
   "source": [
    "try:\n",
    "    1/0\n",
    "\n",
    "except Exception as e:\n",
    "    print(type(e))"
   ]
  },
  {
   "cell_type": "code",
   "execution_count": 12,
   "metadata": {},
   "outputs": [
    {
     "name": "stdout",
     "output_type": "stream",
     "text": [
      "Arr\n"
     ]
    }
   ],
   "source": [
    "def handleException(func):\n",
    "    def wrapper(*args):\n",
    "        try:\n",
    "            func(*args)\n",
    "        except TypeError:\n",
    "            print(\"TypeError\")\n",
    "        except ArithmeticError:\n",
    "            print(\"Arr\")\n",
    "        except DivisionByZeroError:\n",
    "            print(\"Zero Division Error\")\n",
    "        except Exception:\n",
    "            print(\"Some sort of Error\")\n",
    "    return  wrapper\n",
    "\n",
    "\n",
    "@handleException\n",
    "def causeError():\n",
    "    return 1/0\n",
    "\n",
    "causeError()"
   ]
  },
  {
   "cell_type": "code",
   "execution_count": 9,
   "metadata": {},
   "outputs": [
    {
     "name": "stdout",
     "output_type": "stream",
     "text": [
      "Some sort of Error\n"
     ]
    }
   ],
   "source": [
    "@handleException\n",
    "def raiseError(n):\n",
    "    if n ==  0:\n",
    "        raise Exception()\n",
    "    print(n)\n",
    "\n",
    "raiseError(0)"
   ]
  }
 ],
 "metadata": {
  "kernelspec": {
   "display_name": "Python 3",
   "language": "python",
   "name": "python3"
  },
  "language_info": {
   "codemirror_mode": {
    "name": "ipython",
    "version": 3
   },
   "file_extension": ".py",
   "mimetype": "text/x-python",
   "name": "python",
   "nbconvert_exporter": "python",
   "pygments_lexer": "ipython3",
   "version": "3.12.2"
  }
 },
 "nbformat": 4,
 "nbformat_minor": 2
}

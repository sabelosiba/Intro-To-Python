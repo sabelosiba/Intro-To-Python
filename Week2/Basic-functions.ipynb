{
 "cells": [
  {
   "cell_type": "code",
   "execution_count": 2,
   "id": "e7859f59-5c88-4ba9-8d68-f24fc780569a",
   "metadata": {},
   "outputs": [
    {
     "data": {
      "text/plain": [
       "8"
      ]
     },
     "execution_count": 2,
     "metadata": {},
     "output_type": "execute_result"
    }
   ],
   "source": [
    "def performOperation(num1 , num2, operation):\n",
    "    if  (operation == \"sum\"):\n",
    "        return num1 + num2\n",
    "    if  (operation == \"multiply\"):\n",
    "        return num1 * num2\n",
    "    \n",
    "performOperation(5, 3, 'sum')   # Output: 8"
   ]
  },
  {
   "cell_type": "code",
   "execution_count": 4,
   "id": "4d423f7d",
   "metadata": {},
   "outputs": [
    {
     "data": {
      "text/plain": [
       "8"
      ]
     },
     "execution_count": 4,
     "metadata": {},
     "output_type": "execute_result"
    }
   ],
   "source": [
    "def performOperation(num1 , num2, operation= 'sum'):\n",
    "    if  (operation == \"sum\"):\n",
    "        return num1 + num2\n",
    "    if  (operation == \"multiply\"):\n",
    "        return num1 * num2\n",
    "    \n",
    "performOperation(5, 3)   # Output: 8"
   ]
  },
  {
   "cell_type": "code",
   "execution_count": 26,
   "id": "87d6bf57",
   "metadata": {},
   "outputs": [
    {
     "name": "stdout",
     "output_type": "stream",
     "text": [
      "Default message\n",
      "A new message\n"
     ]
    },
    {
     "data": {
      "text/plain": [
       "6"
      ]
     },
     "execution_count": 26,
     "metadata": {},
     "output_type": "execute_result"
    }
   ],
   "source": [
    "import math\n",
    "\n",
    "def performOperation(num1 , num2, operation= 'sum', message = 'Default message'):\n",
    "    print(message)\n",
    "    if  (operation == \"sum\"):\n",
    "        return num1 + num2\n",
    "    if  (operation == \"multiply\"):\n",
    "        return num1 * num2\n",
    "    \n",
    "performOperation(5, 3)   # Output: 8\n",
    "\n",
    "performOperation(2, 3, message= 'A new message', operation= 'multiply')   # Output: A new message\n",
    "                                                                            #         15"
   ]
  },
  {
   "cell_type": "code",
   "execution_count": null,
   "id": "3612fee2",
   "metadata": {},
   "outputs": [],
   "source": []
  },
  {
   "cell_type": "code",
   "execution_count": 20,
   "id": "ad4f079c",
   "metadata": {},
   "outputs": [
    {
     "name": "stdout",
     "output_type": "stream",
     "text": [
      "(1, 2, 3)\n",
      "<class 'tuple'>\n",
      "1\n",
      "2\n",
      "3\n"
     ]
    }
   ],
   "source": [
    "def performOperation(*args):\n",
    "    \"\"\"Perform an operation on the given arguments.\"\"\"\n",
    "    print(args)\n",
    "    print(type(args))\n",
    "    for argv in args:\n",
    "        print(argv)\n",
    "\n",
    "performOperation(1, 2, 3)"
   ]
  },
  {
   "cell_type": "code",
   "execution_count": 27,
   "id": "03e3f75b",
   "metadata": {},
   "outputs": [
    {
     "name": "stdout",
     "output_type": "stream",
     "text": [
      "(1, 2, 3)\n",
      "{'operation': 'sum'}\n"
     ]
    }
   ],
   "source": [
    "def performOperation(*args, **kwargs):\n",
    "    print(args)\n",
    "    print(kwargs)\n",
    "\n",
    "\n",
    "performOperation(1, 2, 3, operation= 'sum')"
   ]
  },
  {
   "cell_type": "code",
   "execution_count": null,
   "id": "8317f090",
   "metadata": {},
   "outputs": [],
   "source": []
  },
  {
   "cell_type": "code",
   "execution_count": 29,
   "id": "e77ac81a",
   "metadata": {},
   "outputs": [
    {
     "name": "stdout",
     "output_type": "stream",
     "text": [
      "Some global data\n",
      "{'varA': 1, 'varB': 2}\n",
      "Some global data\n",
      "{'varC': 3, 'varB': 4}\n"
     ]
    }
   ],
   "source": [
    "message = 'Some global data'\n",
    "\n",
    "def function1(varA, varB):\n",
    "    print(message)\n",
    "    print(locals())\n",
    "\n",
    "def function2(varC, varB):\n",
    "    print(message)\n",
    "    print(locals())\n",
    "\n",
    "function1(1, 2)\n",
    "function2(3, 4)"
   ]
  },
  {
   "cell_type": "code",
   "execution_count": 31,
   "id": "c755a349",
   "metadata": {},
   "outputs": [
    {
     "name": "stdout",
     "output_type": "stream",
     "text": [
      "1\n",
      "Some local data\n",
      "{'varA': 1, 'varB': 2, 'message': 'Some local data'}\n",
      "2\n",
      "Some global data\n",
      "{'varC': 3, 'varB': 4}\n"
     ]
    }
   ],
   "source": [
    "message = 'Some global data'\n",
    "varA = 2\n",
    "\n",
    "def function1(varA, varB):\n",
    "    message = 'Some local data'\n",
    "    print(varA)\n",
    "    print(message)\n",
    "    print(locals())\n",
    "\n",
    "def function2(varC, varB):\n",
    "    print(varA)\n",
    "    print(message)\n",
    "    print(locals())\n",
    "\n",
    "function1(1, 2)\n",
    "function2(3, 4)"
   ]
  }
 ],
 "metadata": {
  "kernelspec": {
   "display_name": "Python 3",
   "language": "python",
   "name": "python3"
  },
  "language_info": {
   "codemirror_mode": {
    "name": "ipython",
    "version": 3
   },
   "file_extension": ".py",
   "mimetype": "text/x-python",
   "name": "python",
   "nbconvert_exporter": "python",
   "pygments_lexer": "ipython3",
   "version": "3.12.2"
  }
 },
 "nbformat": 4,
 "nbformat_minor": 5
}
